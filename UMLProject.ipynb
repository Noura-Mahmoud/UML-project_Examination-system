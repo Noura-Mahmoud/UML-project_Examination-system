{
 "cells": [
  {
   "cell_type": "code",
   "execution_count": 1,
   "id": "582b3cf8",
   "metadata": {},
   "outputs": [],
   "source": [
    "import pyodbc"
   ]
  },
  {
   "cell_type": "code",
   "execution_count": 2,
   "id": "4dd5b78b",
   "metadata": {},
   "outputs": [],
   "source": [
    "def read(conn):\n",
    "    print(\"read...\")\n",
    "    cursor = conn.cursor()\n",
    "    cursor.execute(\"select * from student\")\n",
    "    for row in cursor:\n",
    "        print(f'row = {row}')\n",
    "        \n",
    "    print()"
   ]
  },
  {
   "cell_type": "code",
   "execution_count": 3,
   "id": "5291ca52",
   "metadata": {},
   "outputs": [],
   "source": [
    "def insert(conn,Sid,Fname,Lname):\n",
    "    print(\"insert...\")\n",
    "    cursor = conn.cursor()\n",
    "    cursor.execute(\n",
    "        \"insert into student(stdID,FirstName,LastName) values (?,?,?);\",\n",
    "         (Sid,Fname,Lname)   \n",
    "        )\n",
    "    conn.commit()\n",
    "    "
   ]
  },
  {
   "cell_type": "code",
   "execution_count": 4,
   "id": "35e29083",
   "metadata": {},
   "outputs": [],
   "source": [
    "#update first_name depend on id\n",
    "def update(conn,Fname,Sid):\n",
    "    print(\"update...\")\n",
    "    cursor = conn.cursor()\n",
    "    cursor.execute(\n",
    "        \"update student set FirstName = ? where stdID = ?;\",\n",
    "         (Fname,Sid)   \n",
    "        )\n",
    "    conn.commit()"
   ]
  },
  {
   "cell_type": "code",
   "execution_count": 5,
   "id": "5d09f319",
   "metadata": {},
   "outputs": [],
   "source": [
    "#delete depend on id\n",
    "def delete(conn,Sid):\n",
    "    print(\"delete...\")\n",
    "    cursor = conn.cursor()\n",
    "    cursor.execute(\n",
    "        \"delete from student where stdID = ?;\",\n",
    "         (Sid)   \n",
    "        )\n",
    "    conn.commit()"
   ]
  },
  {
   "cell_type": "code",
   "execution_count": 15,
   "id": "200f1b0f",
   "metadata": {},
   "outputs": [],
   "source": [
    "#connec to database\n",
    "conn = pyodbc.connect(\n",
    "        \"Driver={SQL Server Native Client 11.0};\"\n",
    "        \"Server=Mikasa;\"\n",
    "        \"Database=ExaminationSystem;\"\n",
    "        \"Trusted_Connection=yes;\"\n",
    "    )"
   ]
  },
  {
   "cell_type": "code",
   "execution_count": 17,
   "id": "0fedf78b",
   "metadata": {},
   "outputs": [
    {
     "name": "stdout",
     "output_type": "stream",
     "text": [
      "read...\n",
      "row = (1, 'ahmed', 'khaled')\n",
      "\n"
     ]
    }
   ],
   "source": [
    "read(conn)"
   ]
  },
  {
   "cell_type": "code",
   "execution_count": 18,
   "id": "5235bf51",
   "metadata": {},
   "outputs": [
    {
     "name": "stdout",
     "output_type": "stream",
     "text": [
      "delete...\n"
     ]
    }
   ],
   "source": [
    "delete(conn,1)"
   ]
  },
  {
   "cell_type": "code",
   "execution_count": 19,
   "id": "f42011e2",
   "metadata": {
    "scrolled": true
   },
   "outputs": [
    {
     "name": "stdout",
     "output_type": "stream",
     "text": [
      "insert...\n"
     ]
    }
   ],
   "source": [
    "insert(conn,2,'youssef','bahgat')"
   ]
  },
  {
   "cell_type": "code",
   "execution_count": 20,
   "id": "22719b7d",
   "metadata": {},
   "outputs": [
    {
     "name": "stdout",
     "output_type": "stream",
     "text": [
      "update...\n"
     ]
    }
   ],
   "source": [
    "update(conn,\"hamada\",2)"
   ]
  },
  {
   "cell_type": "code",
   "execution_count": 21,
   "id": "0bee0f71",
   "metadata": {},
   "outputs": [
    {
     "name": "stdout",
     "output_type": "stream",
     "text": [
      "read...\n",
      "row = (2, 'hamada', 'bahgat')\n",
      "\n"
     ]
    }
   ],
   "source": [
    "read(conn)"
   ]
  },
  {
   "cell_type": "code",
   "execution_count": null,
   "id": "29e89747",
   "metadata": {},
   "outputs": [],
   "source": []
  }
 ],
 "metadata": {
  "kernelspec": {
   "display_name": "Python 3",
   "language": "python",
   "name": "python3"
  },
  "language_info": {
   "codemirror_mode": {
    "name": "ipython",
    "version": 3
   },
   "file_extension": ".py",
   "mimetype": "text/x-python",
   "name": "python",
   "nbconvert_exporter": "python",
   "pygments_lexer": "ipython3",
   "version": "3.9.13"
  },
  "vscode": {
   "interpreter": {
    "hash": "5cf2bbaaa40a8e84d95f1b29b3b482c356e4d2ef6d289728c355082cab3d987a"
   }
  }
 },
 "nbformat": 4,
 "nbformat_minor": 5
}
