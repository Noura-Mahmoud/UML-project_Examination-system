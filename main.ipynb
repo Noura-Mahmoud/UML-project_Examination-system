{
 "cells": [
  {
   "cell_type": "code",
   "execution_count": 3,
   "id": "55879f1c",
   "metadata": {},
   "outputs": [],
   "source": [
    "import course, exam, admin, student, question, instructor\n",
    "import pyodbc"
   ]
  },
  {
   "cell_type": "code",
   "execution_count": 4,
   "id": "ac42af25",
   "metadata": {},
   "outputs": [],
   "source": [
    "conn = pyodbc.connect(\n",
    "        \"Driver={SQL Server Native Client 11.0};\"\n",
    "        \"Server=Mikasa;\"\n",
    "        \"Database=ExaminationSystem;\"\n",
    "        \"Trusted_Connection=yes;\"\n",
    "        \"MARS_Connection=Yes\"\n",
    "    )"
   ]
  },
  {
   "cell_type": "code",
   "execution_count": null,
   "id": "23d2df17",
   "metadata": {},
   "outputs": [],
   "source": [
    "%run instructor.ipynb"
   ]
  },
  {
   "cell_type": "code",
   "execution_count": 5,
   "id": "8bc5b52e",
   "metadata": {},
   "outputs": [],
   "source": [
    "def check_student(userName,password):\n",
    "    cursor = conn.cursor()\n",
    "    cursor.execute(\"check_student ?,?;\",(userName,password))\n",
    "    for row in cursor:\n",
    "        print(row)"
   ]
  },
  {
   "cell_type": "code",
   "execution_count": 6,
   "id": "bba62202",
   "metadata": {},
   "outputs": [],
   "source": [
    "def check_instructor(userName,password):\n",
    "    cursor = conn.cursor()\n",
    "    cursor.execute(\"check_instructor ?,?;\",(userName,password))\n",
    "    for row in cursor:\n",
    "        print(row)\n",
    "        "
   ]
  },
  {
   "cell_type": "code",
   "execution_count": 7,
   "id": "8a552816",
   "metadata": {},
   "outputs": [],
   "source": [
    "def check_admin(userName,password):\n",
    "    cursor = conn.cursor()\n",
    "    cursor.execute(\" check_admin ?,?;\",(userName,password))\n",
    "    for row in cursor:\n",
    "        print(row)"
   ]
  },
  {
   "cell_type": "code",
   "execution_count": 1,
   "id": "e91420ca",
   "metadata": {},
   "outputs": [],
   "source": [
    "def initializing():\n",
    "    # print(\"To log in press 1 \\nTo sign up press 2\")\n",
    "    option = input(\"To log in press 1 \\nTo sign up press 2\")# parse int\n",
    "    # option = int(input())\n",
    "    # option = int(option)\n",
    "    if option == 1:\n",
    "        # print(\"please enter your username\")\n",
    "        # username = input()\n",
    "        # print(\"please enter your password\")\n",
    "        # password = input()\n",
    "        # print(\"please enter your role, whether you are student, instructor or admin\")\n",
    "        # role = input()\n",
    "        print(option)\n",
    "        loginMenu()\n",
    "    elif option == 2: # in student table\n",
    "        print(\"please enter your username\")\n",
    "        username = input()\n",
    "        print(\"please enter your password\")\n",
    "        password = input()\n",
    "        # signUp(username, password)\n",
    "        # initializing() # to login after sign up"
   ]
  },
  {
   "cell_type": "code",
   "execution_count": 14,
   "id": "95141755",
   "metadata": {},
   "outputs": [],
   "source": [
    "def loginMenu():\n",
    "  type= int( input(\"wlecome to Examination-system\\n-------------------------------\\nchoose ur type to login\\n1-Admin\\n2-instructor\\n3-Student\\n\") )\n",
    "  while type>3 or type<1:\n",
    "    type= int (input(\"invalid type please try again\"))\n",
    "    \n",
    "    \n",
    "  username=input(\"user name:\")\n",
    "  password=input(\"user password:\")\n",
    "    \n",
    "  if type == 1:\n",
    "    check_admin(username,password)\n",
    "    adminUser()\n",
    "  elif type == 2:\n",
    "    check_instructor(username,password)\n",
    "    instructorUser()\n",
    "  elif type == 3:\n",
    "    check_student(username,password)\n",
    "    studentUser(stdID)\n",
    "        \n",
    "  "
   ]
  },
  {
   "cell_type": "code",
   "execution_count": 11,
   "id": "cb0409d1",
   "metadata": {},
   "outputs": [],
   "source": [
    "\n",
    "def studentUser(stdID):\n",
    "    print(\"if you want to enroll new course press 1, get approved courses press 2 or take exam press 3\")\n",
    "    userFunction = int(input())\n",
    "    # userFunction = input()\n",
    "    if userFunction == 1:\n",
    "        print(\"please insert the exam id\")\n",
    "        # crsID = input()\n",
    "        crsID = int(input())\n",
    "        student.enroll(crsID)\n",
    "    elif userFunction == 2:\n",
    "        student.getApprovedCourses(stdID)\n",
    "    elif userFunction == 3:\n",
    "        print(\"please insert the exam id\")\n",
    "        # examID = input()\n",
    "        examID = int(input())\n",
    "        student.takeExam(examID)\n",
    "        "
   ]
  },
  {
   "cell_type": "code",
   "execution_count": 12,
   "id": "551e6a13",
   "metadata": {},
   "outputs": [],
   "source": [
    "\n",
    "def adminUser():\n",
    "    print(\"if you want to add new course press 1, \\nedit course press 2, \\ndelete course press 3, \\ninsert new instructor press 4, \\nedit instructor press 5, \\ndelete instructor press 6, \\nto decide student state in a specific course press 7 \\nor generate report press 8\")\n",
    "    # userFunction = input()\n",
    "    userFunction = int(input())\n",
    "    if userFunction == 1:\n",
    "        print(\"please insert the course name\")\n",
    "        courseName = input()\n",
    "        admin.addCourse(courseName)\n",
    "    elif userFunction == 2:\n",
    "        print(\"please insert the course id\")\n",
    "        courseID = input()\n",
    "        print(\"please insert the new course name\")\n",
    "        courseName = input()\n",
    "        admin.editCourse(courseID, courseName)\n",
    "    elif userFunction == 3:\n",
    "        print(\"please insert the course id\")\n",
    "        courseID = input()\n",
    "        admin.deleteCourse(courseID)\n",
    "    elif userFunction == 4:\n",
    "        print(\"please insert the instructor name\")\n",
    "        InstructorName = input()\n",
    "        admin.addInstructor(InstructorName)\n",
    "    elif userFunction == 5:\n",
    "        print(\"please insert the instructor id\")\n",
    "        InstructorID = input()\n",
    "        print(\"please insert the instructor name\")\n",
    "        InstructorName = input()\n",
    "        admin.editInstructor(InstructorID, InstructorName)\n",
    "    elif userFunction == 6:\n",
    "        print(\"please insert the instructor id\")\n",
    "        InstructorID = input()\n",
    "        admin.deleteInstructor(InstructorID)\n",
    "    elif userFunction == 7:\n",
    "        print(\"please insert the student id\")\n",
    "        stdID = input()\n",
    "        print(\"please insert the course id\")\n",
    "        crsID = input()\n",
    "        print(\"please insert your decision 'approved' or 'declined'\")\n",
    "        decision = input()\n",
    "        admin.approveDeclineStudents(stdID, crsID, decision)\n",
    "    elif userFunction == 8:\n",
    "        admin.generateReport()\n",
    "        "
   ]
  },
  {
   "cell_type": "code",
   "execution_count": 13,
   "id": "d1cf55a6",
   "metadata": {},
   "outputs": [],
   "source": [
    "\n",
    "def instructorUser():\n",
    "    print(\"if you want to add new question press 1, \\ngenerate exam press 2\")\n",
    "    # userFunction = input()\n",
    "    userFunction = int(input())\n",
    "    if userFunction == 1:\n",
    "        print(\"please enter the question body\")\n",
    "        questionBody = input()\n",
    "        print(\"please enter the course id\")\n",
    "        # crsID = input()\n",
    "        crsID = int(input())\n",
    "        print(\"please enter the choiceA\")\n",
    "        choiceA = input()\n",
    "        print(\"please enter the choiceB\")\n",
    "        choiceB = input()\n",
    "        print(\"please enter the choiceC\")\n",
    "        choiceC = input()\n",
    "        print(\"please enter the choiceD\")\n",
    "        choiceD = input()\n",
    "        print(\"please enter the correct answer\")\n",
    "        correctAns = input()\n",
    "        instructor.addQuestion(questionBody, crsID, choiceA, choiceB, choiceC, choiceD, correctAns)\n",
    "    elif userFunction == 2:\n",
    "        print(\"please enter the course id\")\n",
    "        # crsID = input()\n",
    "        crsID = int(input())\n",
    "        print(\"please enter the number of questions\")\n",
    "        NumOfQuestion = input()\n",
    "        instructor.generateExam(crsID, NumOfQuestion)\n",
    "    "
   ]
  },
  {
   "cell_type": "code",
   "execution_count": 2,
   "id": "d8f7ab59",
   "metadata": {},
   "outputs": [
    {
     "ename": "ValueError",
     "evalue": "invalid literal for int() with base 10: ''",
     "output_type": "error",
     "traceback": [
      "\u001b[1;31m---------------------------------------------------------------------------\u001b[0m",
      "\u001b[1;31mValueError\u001b[0m                                Traceback (most recent call last)",
      "Cell \u001b[1;32mIn[2], line 1\u001b[0m\n\u001b[1;32m----> 1\u001b[0m initializing()\n",
      "Cell \u001b[1;32mIn[1], line 5\u001b[0m, in \u001b[0;36minitializing\u001b[1;34m()\u001b[0m\n\u001b[0;32m      3\u001b[0m option \u001b[39m=\u001b[39m \u001b[39minput\u001b[39m(\u001b[39m\"\u001b[39m\u001b[39mTo log in press 1 \u001b[39m\u001b[39m\\n\u001b[39;00m\u001b[39mTo sign up press 2\u001b[39m\u001b[39m\"\u001b[39m)\u001b[39m# parse int\u001b[39;00m\n\u001b[0;32m      4\u001b[0m \u001b[39m# option = int(input())\u001b[39;00m\n\u001b[1;32m----> 5\u001b[0m option \u001b[39m=\u001b[39m \u001b[39mint\u001b[39;49m(option)\n\u001b[0;32m      6\u001b[0m \u001b[39mif\u001b[39;00m option \u001b[39m==\u001b[39m \u001b[39m1\u001b[39m:\n\u001b[0;32m      7\u001b[0m     \u001b[39m# print(\"please enter your username\")\u001b[39;00m\n\u001b[0;32m      8\u001b[0m     \u001b[39m# username = input()\u001b[39;00m\n\u001b[1;32m   (...)\u001b[0m\n\u001b[0;32m     11\u001b[0m     \u001b[39m# print(\"please enter your role, whether you are student, instructor or admin\")\u001b[39;00m\n\u001b[0;32m     12\u001b[0m     \u001b[39m# role = input()\u001b[39;00m\n\u001b[0;32m     13\u001b[0m     loginMenu()\n",
      "\u001b[1;31mValueError\u001b[0m: invalid literal for int() with base 10: ''"
     ]
    }
   ],
   "source": [
    "initializing()"
   ]
  },
  {
   "cell_type": "code",
   "execution_count": 15,
   "id": "dd7b7b08",
   "metadata": {},
   "outputs": [],
   "source": [
    "loginMenu()"
   ]
  },
  {
   "cell_type": "code",
   "execution_count": null,
   "id": "d2277d78",
   "metadata": {},
   "outputs": [],
   "source": []
  }
 ],
 "metadata": {
  "kernelspec": {
   "display_name": "Python 3",
   "language": "python",
   "name": "python3"
  },
  "language_info": {
   "codemirror_mode": {
    "name": "ipython",
    "version": 3
   },
   "file_extension": ".py",
   "mimetype": "text/x-python",
   "name": "python",
   "nbconvert_exporter": "python",
   "pygments_lexer": "ipython3",
   "version": "3.9.13"
  },
  "vscode": {
   "interpreter": {
    "hash": "5cf2bbaaa40a8e84d95f1b29b3b482c356e4d2ef6d289728c355082cab3d987a"
   }
  }
 },
 "nbformat": 4,
 "nbformat_minor": 5
}
