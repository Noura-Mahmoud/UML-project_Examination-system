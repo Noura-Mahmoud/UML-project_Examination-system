{
 "cells": [
  {
   "cell_type": "code",
   "execution_count": 95,
   "id": "582b3cf8",
   "metadata": {},
   "outputs": [],
   "source": [
    "import pyodbc\n",
    "import pandas as pd"
   ]
  },
  {
   "cell_type": "code",
   "execution_count": 96,
   "id": "4dd5b78b",
   "metadata": {},
   "outputs": [],
   "source": [
    "def read(conn):\n",
    "    print(\"read...\")\n",
    "    cursor = conn.cursor()\n",
    "    cursor.execute(\"select * from student\")\n",
    "    for row in cursor:\n",
    "        print(f'row = {row}')\n",
    "        \n",
    "    print()"
   ]
  },
  {
   "cell_type": "code",
   "execution_count": 97,
   "id": "5291ca52",
   "metadata": {},
   "outputs": [],
   "source": [
    "def insert(conn,Sid,Fname,Lname):\n",
    "    print(\"insert...\")\n",
    "    cursor = conn.cursor()\n",
    "    cursor.execute(\n",
    "        \"insert into student(stdID,FirstName,LastName) values (?,?,?);\",\n",
    "         (Sid,Fname,Lname)   \n",
    "        )\n",
    "    conn.commit()\n",
    "    "
   ]
  },
  {
   "cell_type": "code",
   "execution_count": 98,
   "id": "35e29083",
   "metadata": {},
   "outputs": [],
   "source": [
    "#update first_name depend on id\n",
    "def update(conn,Fname,Sid):\n",
    "    print(\"update...\")\n",
    "    cursor = conn.cursor()\n",
    "    cursor.execute(\n",
    "        \"update student set FirstName = ? where stdID = ?;\",\n",
    "         (Fname,Sid)   \n",
    "        )\n",
    "    conn.commit()"
   ]
  },
  {
   "cell_type": "code",
   "execution_count": 99,
   "id": "5d09f319",
   "metadata": {},
   "outputs": [],
   "source": [
    "#delete depend on id\n",
    "def delete(conn,Sid):\n",
    "    print(\"delete...\")\n",
    "    cursor = conn.cursor()\n",
    "    cursor.execute(\n",
    "        \"delete from student where stdID = ?;\",\n",
    "         (Sid)   \n",
    "        )\n",
    "    conn.commit()"
   ]
  },
  {
   "cell_type": "code",
   "execution_count": 100,
   "id": "a2f08939",
   "metadata": {},
   "outputs": [],
   "source": [
    "#connec to database\n",
    "conn = pyodbc.connect(\n",
    "        \"Driver={SQL Server Native Client 11.0};\"\n",
    "        \"Server=DESKTOP-IQ1O672\\SQLEXPRESS;\"\n",
    "        \"Database=ExaminationSystem;\"\n",
    "        \"Trusted_Connection=yes;\"\n",
    "    )"
   ]
  },
  {
   "cell_type": "code",
   "execution_count": 101,
   "id": "0fedf78b",
   "metadata": {},
   "outputs": [
    {
     "name": "stdout",
     "output_type": "stream",
     "text": [
      "read...\n",
      "row = (1, 'ahmed', 'saeed')\n",
      "row = (2, 'hamada', 'bahgat')\n",
      "\n"
     ]
    }
   ],
   "source": [
    "read(conn)"
   ]
  },
  {
   "cell_type": "code",
   "execution_count": 102,
   "id": "5235bf51",
   "metadata": {},
   "outputs": [
    {
     "name": "stdout",
     "output_type": "stream",
     "text": [
      "delete...\n"
     ]
    }
   ],
   "source": [
    "delete(conn,2)"
   ]
  },
  {
   "cell_type": "code",
   "execution_count": 103,
   "id": "f42011e2",
   "metadata": {
    "scrolled": true
   },
   "outputs": [
    {
     "name": "stdout",
     "output_type": "stream",
     "text": [
      "insert...\n"
     ]
    }
   ],
   "source": [
    "insert(conn,2,\"youssef\",\"bahgat\")"
   ]
  },
  {
   "cell_type": "code",
   "execution_count": 136,
   "id": "22719b7d",
   "metadata": {},
   "outputs": [
    {
     "name": "stdout",
     "output_type": "stream",
     "text": [
      "update...\n"
     ]
    }
   ],
   "source": [
    "update(conn,\"hamad\",2)"
   ]
  },
  {
   "cell_type": "code",
   "execution_count": 105,
   "id": "0bee0f71",
   "metadata": {},
   "outputs": [
    {
     "name": "stdout",
     "output_type": "stream",
     "text": [
      "read...\n",
      "row = (1, 'ahmed', 'saeed')\n",
      "row = (2, 'hamada', 'bahgat')\n",
      "\n"
     ]
    }
   ],
   "source": [
    "read(conn)"
   ]
  },
  {
   "cell_type": "code",
   "execution_count": 106,
   "id": "893bfec8",
   "metadata": {},
   "outputs": [],
   "source": [
    "import pdfkit"
   ]
  },
  {
   "cell_type": "code",
   "execution_count": 107,
   "id": "a9ecb6da",
   "metadata": {},
   "outputs": [],
   "source": [
    "from fpdf import FPDF"
   ]
  },
  {
   "cell_type": "code",
   "execution_count": 160,
   "id": "8bfc646b",
   "metadata": {},
   "outputs": [],
   "source": [
    "def all_students_data_report():\n",
    "    sql_query = pd.read_sql_query(''' \n",
    "                              select * from student\n",
    "                              '''\n",
    "                              ,conn) # here, the 'conn' is the variable that contains your database connection information from step 2\n",
    "\n",
    "    df = pd.DataFrame(sql_query)\n",
    "    df.to_csv (r'all_students_info.csv', index = False) # place 'r' before the path name"
   ]
  },
  {
   "cell_type": "code",
   "execution_count": 161,
   "id": "f802c476",
   "metadata": {},
   "outputs": [],
   "source": [
    "all_students_data_report()"
   ]
  },
  {
   "cell_type": "code",
   "execution_count": 146,
   "id": "3bf6eac5",
   "metadata": {},
   "outputs": [],
   "source": [
    "def Num_students_at_each_course():\n",
    "    sql_query = pd.read_sql_query(''' \n",
    "                              select c.CrsName [course Name], count(*) [number of student] from student\n",
    "                              s inner join std_course sc on s.stdID =sc.stdID inner join \n",
    "                              course c on sc.crsID = c.crsID group by(c.CrsName)\n",
    "                              '''\n",
    "                              ,conn) # here, the 'conn' is the variable that contains your database connection information from step 2\n",
    "\n",
    "    df = pd.DataFrame(sql_query)\n",
    "    df.to_csv (r'num_students_each_course.csv', index = False) # place 'r' before the path name"
   ]
  },
  {
   "cell_type": "code",
   "execution_count": 147,
   "id": "7faa10a6",
   "metadata": {},
   "outputs": [],
   "source": [
    "Num_students_at_each_course()\n"
   ]
  },
  {
   "cell_type": "code",
   "execution_count": 168,
   "id": "16607ce9",
   "metadata": {},
   "outputs": [],
   "source": [
    "def highest_grade_each_course():\n",
    "    sql_query = pd.read_sql_query(''' \n",
    "                              select [student name], [course name], grade\n",
    "                                from( \n",
    "                                select s.FirstName+' '+s.LastName [student name], c.CrsName [course name], se.grade,\n",
    "                                    dense_rank() over (partition by c.CrsName order by se.grade desc ) as gradess\n",
    "                                    from student s\n",
    "                                    inner join student_exam se on s.stdID = se.stdID\n",
    "                                    inner join Exam e on se.examID = e.ExamID\n",
    "                                    inner join course c on e.crsID =c.crsID\n",
    "                                )tmp\n",
    "                                where gradess =1\n",
    "                                order by gradess asc\n",
    "                              '''\n",
    "                              ,conn) # here, the 'conn' is the variable that contains your database connection information from step 2\n",
    "\n",
    "    df = pd.DataFrame(sql_query)\n",
    "    df.to_csv (r'highest_grade_at_each_course.csv', index = False) # place 'r' before the path name"
   ]
  },
  {
   "cell_type": "code",
   "execution_count": 169,
   "id": "d009c9bf",
   "metadata": {},
   "outputs": [],
   "source": [
    "highest_grade_each_course()"
   ]
  },
  {
   "cell_type": "code",
   "execution_count": 170,
   "id": "07accdf6",
   "metadata": {},
   "outputs": [],
   "source": [
    "def highest_grade_each_studet_get():\n",
    "    sql_query = pd.read_sql_query(''' \n",
    "                              select [student name], grade\n",
    "                                from( \n",
    "                                select s.FirstName+' '+s.LastName [student name], se.grade,\n",
    "                                    dense_rank() over (partition by s.stdID order by se.grade desc ) as gradess\n",
    "                                    from student s\n",
    "                                    inner join student_exam se on s.stdID = se.stdID\n",
    "                                    inner join Exam e on se.examID = e.ExamID\n",
    "\n",
    "                                )t\n",
    "                                where gradess =1\n",
    "                                order by gradess asc\n",
    "                              '''\n",
    "                              ,conn) # here, the 'conn' is the variable that contains your database connection information from step 2\n",
    "\n",
    "    df = pd.DataFrame(sql_query)\n",
    "    df.to_csv (r'highest_grade_each_studet_get.csv', index = False) # place 'r' before the path name"
   ]
  },
  {
   "cell_type": "code",
   "execution_count": 171,
   "id": "5fe35a8b",
   "metadata": {},
   "outputs": [],
   "source": [
    "highest_grade_each_studet_get()"
   ]
  },
  {
   "cell_type": "code",
   "execution_count": null,
   "id": "1eae6da9",
   "metadata": {},
   "outputs": [],
   "source": []
  }
 ],
 "metadata": {
  "kernelspec": {
   "display_name": "Python 3",
   "language": "python",
   "name": "python3"
  },
  "language_info": {
   "codemirror_mode": {
    "name": "ipython",
    "version": 3
   },
   "file_extension": ".py",
   "mimetype": "text/x-python",
   "name": "python",
   "nbconvert_exporter": "python",
   "pygments_lexer": "ipython3",
   "version": "3.8.8"
  }
 },
 "nbformat": 4,
 "nbformat_minor": 5
}
